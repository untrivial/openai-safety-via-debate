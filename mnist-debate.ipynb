{
  "cells": [
    {
      "cell_type": "markdown",
      "metadata": {
        "id": "rjXDUdojRORb"
      },
      "source": [
        "# AI safety via debate\n",
        "OAI article: https://openai.com/index/debate/\n",
        "\n",
        "Paper: https://arxiv.org/pdf/1805.00899\n",
        "\n",
        "Implementation by Alex Chen\n",
        "\n",
        "Jul 2024"
      ]
    },
    {
      "cell_type": "markdown",
      "metadata": {},
      "source": [
        "## Example Output\n",
        "\n",
        "Here, the judge was fooled by the liar agent (red), despite the truth agent's (blue) best efforts.\n",
        "\n",
        "![AI Safety Debate](OAISafetyDebateImg.png)\n"
      ]
    },
    {
      "cell_type": "markdown",
      "metadata": {
        "id": "IDwV8qMBQzce"
      },
      "source": [
        "# Setup"
      ]
    },
    {
      "cell_type": "code",
      "execution_count": 13,
      "metadata": {
        "id": "-p8AER-rQhaV"
      },
      "outputs": [],
      "source": [
        "import torch\n",
        "import torchvision\n",
        "import numpy as np\n",
        "import matplotlib.pyplot as plt\n",
        "import torch.nn as nn\n",
        "import torch.nn.functional as F\n",
        "import torch.optim as optim\n",
        "import random\n",
        "from torchvision.transforms import ToTensor\n",
        "import math"
      ]
    },
    {
      "cell_type": "markdown",
      "metadata": {
        "id": "ZAXdR4RGQzCE"
      },
      "source": [
        "# Training the Judge\n",
        "The judge is a classifier trained to \"predict MNIST digits from 6 non-black digits, sampled at random for each presentation when pretraining.\"\n",
        "\n",
        "As per the paper, their original sparse classifier achieved 59.4% accuracy. They use a convolutional neural net."
      ]
    },
    {
      "cell_type": "code",
      "execution_count": 2,
      "metadata": {
        "id": "Pw-A0C8PT_aO"
      },
      "outputs": [],
      "source": [
        "n_epochs = 3\n",
        "batch_size_train = 64\n",
        "batch_size_test = 1000\n",
        "learning_rate = 0.0005\n",
        "momentum = 0.5\n",
        "log_interval = 10"
      ]
    },
    {
      "cell_type": "code",
      "execution_count": null,
      "metadata": {
        "colab": {
          "base_uri": "https://localhost:8080/"
        },
        "id": "YVggtk7Oe77V",
        "outputId": "5f78934d-a849-4947-ae52-850337151bd2"
      },
      "outputs": [],
      "source": [
        "import torch\n",
        "import torch.nn as nn\n",
        "import torch.nn.functional as F\n",
        "import torchvision\n",
        "import torchvision.transforms as transforms\n",
        "import numpy as np\n",
        "from torchvision.transforms import ToTensor\n",
        "\n",
        "class RandomPixelSelection(object):\n",
        "    def __init__(self, num_pixels=6):\n",
        "        self.num_pixels = num_pixels\n",
        "\n",
        "    def __call__(self, img):\n",
        "        img_np = np.array(img)\n",
        "        flattened = img_np.flatten()\n",
        "        non_black_indices = np.where(flattened > 0)[0]\n",
        "\n",
        "        if len(non_black_indices) < self.num_pixels:\n",
        "            selected_indices = non_black_indices\n",
        "        else:\n",
        "            selected_indices = np.random.choice(non_black_indices, self.num_pixels, replace=False)\n",
        "\n",
        "        new_img = np.zeros_like(flattened)\n",
        "        new_img[selected_indices] = flattened[selected_indices]\n",
        "        new_img = new_img.reshape(img_np.shape)\n",
        "\n",
        "        new_img = torch.tensor(new_img, dtype=torch.float32)\n",
        "        new_img = (new_img - 0.1307) / 0.3081\n",
        "\n",
        "        return new_img.unsqueeze(0)\n",
        "\n",
        "transform = torchvision.transforms.Compose([\n",
        "    RandomPixelSelection(num_pixels=6)\n",
        "])\n",
        "\n",
        "batch_size_train = 64\n",
        "batch_size_test = 1000\n",
        "\n",
        "train_loader = torch.utils.data.DataLoader(\n",
        "    torchvision.datasets.MNIST('~/mnist_data/', train=True, download=True, transform=transform),\n",
        "    batch_size=batch_size_train, shuffle=True)\n",
        "\n",
        "test_loader = torch.utils.data.DataLoader(\n",
        "    torchvision.datasets.MNIST('~/mnist_data/', train=False, download=True, transform=transform),\n",
        "    batch_size=batch_size_test, shuffle=True)\n",
        "\n",
        "class Judge(nn.Module):\n",
        "    def __init__(self):\n",
        "        super(Judge, self).__init__()\n",
        "        self.conv1 = nn.Conv2d(1, 6, kernel_size=5)\n",
        "        self.conv2 = nn.Conv2d(6, 12, kernel_size=5)\n",
        "        self.fc1 = nn.Linear(12 * 20 * 20, 60)\n",
        "        self.fc2 = nn.Linear(60, 30)\n",
        "        self.fc3 = nn.Linear(30, 10)\n",
        "\n",
        "    def forward(self, x):\n",
        "        x = F.relu(self.conv1(x))\n",
        "        x = F.relu(self.conv2(x))\n",
        "        x = x.view(-1, 12 * 20 * 20)\n",
        "        x = F.relu(self.fc1(x))\n",
        "        x = F.relu(self.fc2(x))\n",
        "        x = self.fc3(x)\n",
        "        return F.log_softmax(x, dim=1)\n",
        "\n",
        "device = torch.device(\"cuda\" if torch.cuda.is_available() else \"cpu\")\n",
        "model = Judge().to(device)\n",
        "optimizer = torch.optim.SGD(model.parameters(), lr=learning_rate, momentum=momentum)\n",
        "scheduler = torch.optim.lr_scheduler.StepLR(optimizer, step_size=1, gamma=0.7)\n",
        "\n",
        "def train(model, device, train_loader, optimizer, epoch):\n",
        "    model.train()\n",
        "    for batch_idx, (data, target) in enumerate(train_loader):\n",
        "        data, target = data.to(device), target.to(device)\n",
        "        optimizer.zero_grad()\n",
        "        output = model(data)\n",
        "        loss = F.nll_loss(output, target)\n",
        "        loss.backward()\n",
        "        optimizer.step()\n",
        "        if batch_idx % 100 == 0:\n",
        "            print(f'Train Epoch: {epoch} [{batch_idx * len(data)}/{len(train_loader.dataset)} '\n",
        "                  f'({100. * batch_idx / len(train_loader):.0f}%)]\\tLoss: {loss.item():.6f}')\n",
        "\n",
        "def test(model, device, test_loader):\n",
        "    model.eval()\n",
        "    test_loss = 0\n",
        "    correct = 0\n",
        "    with torch.no_grad():\n",
        "        for data, target in test_loader:\n",
        "            data, target = data.to(device), target.to(device)\n",
        "            output = model(data)\n",
        "            test_loss += F.nll_loss(output, target, reduction='sum').item()\n",
        "            pred = output.argmax(dim=1, keepdim=True)\n",
        "            correct += pred.eq(target.view_as(pred)).sum().item()\n",
        "\n",
        "    test_loss /= len(test_loader.dataset)\n",
        "    print(f'\\nTest set: Average loss: {test_loss:.4f}, Accuracy: {correct}/{len(test_loader.dataset)} '\n",
        "          f'({100. * correct / len(test_loader.dataset):.0f}%)\\n')\n",
        "\n",
        "n_epochs = 8\n",
        "for epoch in range(1, n_epochs + 1):\n",
        "    train(model, device, train_loader, optimizer, epoch)\n",
        "    test(model, device, test_loader)\n",
        "    scheduler.step()"
      ]
    },
    {
      "cell_type": "code",
      "execution_count": null,
      "metadata": {},
      "outputs": [],
      "source": [
        "example_data, example_target = next(iter(test_loader))\n",
        "example_data, example_target = example_data.to(device), example_target.to(device)\n",
        "model.eval()\n",
        "with torch.no_grad():\n",
        "    output = model(example_data)\n",
        "    pred = output.argmax(dim=1, keepdim=True)\n",
        "    for i in range(len(pred)):\n",
        "        print(f'Predicted: {pred[i].item()}, Actual: {example_target[i].item()}')\n"
      ]
    },
    {
      "cell_type": "code",
      "execution_count": 40,
      "metadata": {},
      "outputs": [],
      "source": [
        "class StandardMNIST(object):\n",
        "    def __call__(self, img):\n",
        "        img_np = np.array(img)\n",
        "        new_img = torch.tensor(img_np, dtype=torch.float32)\n",
        "        return new_img.unsqueeze(0)\n",
        "\n",
        "standardTransform = torchvision.transforms.Compose([\n",
        "    StandardMNIST(),\n",
        "    transforms.Normalize((0.1307,), (0.3081,))\n",
        "])"
      ]
    },
    {
      "cell_type": "code",
      "execution_count": 318,
      "metadata": {},
      "outputs": [],
      "source": [
        "batch_size_test = 1\n",
        "\n",
        "test_loader = torch.utils.data.DataLoader(\n",
        "    torchvision.datasets.MNIST('~/mnist_data/', train=False, download=True, transform=standardTransform),\n",
        "    batch_size=batch_size_test, shuffle=True)"
      ]
    },
    {
      "cell_type": "code",
      "execution_count": null,
      "metadata": {},
      "outputs": [],
      "source": [
        "example_image, example_label = next(iter(test_loader))\n",
        "example_image_dim = example_image[0][0]\n",
        "print(example_label)"
      ]
    },
    {
      "cell_type": "markdown",
      "metadata": {},
      "source": [
        "# The Agent\n",
        "\n",
        "OAI paper uses pure Monte Carlo Tree Search with 10k rollouts per move. In the original paper the MCTS resets for each move, but we'll keep the same tree for the whole debate.\n",
        "\n",
        "The selection criteria is the PUCT variant: the win rate + Upper bound\n",
        "\n",
        "tree layers alternate between the truthful agent and the lying agent\n",
        "\n",
        "the root of the tree is the empty state\n",
        "\n",
        "first move is truthful agent"
      ]
    },
    {
      "cell_type": "code",
      "execution_count": 233,
      "metadata": {},
      "outputs": [],
      "source": [
        "class Node():\n",
        "    def __init__(self, parent=None, children=None, winRate=None, timesVisited=0, depth=0):\n",
        "        self.parent = parent\n",
        "        self.children = children if children is not None else {}\n",
        "        self.timesVisited = timesVisited\n",
        "        self.winRate = winRate if winRate is not None else [0,0]\n",
        "        self.depth = depth"
      ]
    },
    {
      "cell_type": "code",
      "execution_count": 314,
      "metadata": {},
      "outputs": [],
      "source": [
        "class MCTS():\n",
        "\n",
        "    def __init__(self, image, targetLabel, model, hasLiar=True):\n",
        "        self.root = Node(parent=None, winRate=[0,0], timesVisited=0, depth=0)\n",
        "        self.visitedLeaves = {} # may not need due to sparsity\n",
        "        self.image = image\n",
        "        self.targetLabel = targetLabel\n",
        "        self.model = model\n",
        "        self.non_black_pixels = []\n",
        "        self.winRateWeight = 3\n",
        "        self.hasLiar = hasLiar\n",
        "        # print(self.image.shape)\n",
        "        for i in range(self.image.shape[0]):\n",
        "            for j in range(self.image.shape[1]):\n",
        "                if self.image[i, j] > -4.23e-01: # -0.42421... is what zeroes get mapped to\n",
        "                    self.non_black_pixels.append((i, j))\n",
        "        \n",
        "        self.numValidActions = len(self.non_black_pixels)\n",
        "    \n",
        "\n",
        "    def calculateUtility(self, winRate, sumVisited, numVisits):\n",
        "        winRateRatio = 0\n",
        "        if winRate[1] != 0:\n",
        "            winRateRatio = winRate[0] / winRate[1]\n",
        "        return self.winRateWeight * winRateRatio + (1 / self.numValidActions) * (math.sqrt(1 + sumVisited)) / (1 + numVisits)\n",
        "\n",
        "\n",
        "    def chooseNextNode(self, curNode, chosen):\n",
        "        sumVisited = 0\n",
        "        for child in curNode.children.values():\n",
        "            sumVisited += child.timesVisited\n",
        "        \n",
        "        maxUtility = -1\n",
        "        maxChildIndices = []\n",
        "\n",
        "        for i in range(self.numValidActions):\n",
        "            if i not in chosen:\n",
        "                if i in curNode.children:\n",
        "                    util = self.calculateUtility(curNode.children[i].winRate, sumVisited, curNode.children[i].timesVisited)\n",
        "                else:\n",
        "                    util = self.calculateUtility([0,0], sumVisited, 0)\n",
        "\n",
        "                if util > maxUtility:\n",
        "                    maxChildIndices = [i]\n",
        "                    maxUtility = util\n",
        "                elif util == maxUtility:\n",
        "                    maxChildIndices.append(i)\n",
        "        \n",
        "        maxChildIndex = random.choice(maxChildIndices)\n",
        "        if maxChildIndex in curNode.children.keys():\n",
        "            curNode.children[maxChildIndex].timesVisited += 1\n",
        "            # print(f\"Child {maxChildIndex} visited {curNode.children[maxChildIndex].timesVisited} times\")\n",
        "        else:\n",
        "            curNode.children[maxChildIndex] = Node(parent=curNode, winRate=[0,0], timesVisited=1, depth=curNode.depth+1)\n",
        "\n",
        "        return curNode.children[maxChildIndex], maxChildIndex\n",
        "\n",
        "\n",
        "    def backprop(self, leaf, truthWin):\n",
        "        curNode = leaf\n",
        "        while curNode.parent is not None:\n",
        "            if self.hasLiar:\n",
        "                if truthWin and curNode.depth % 2 == 1:\n",
        "                    curNode.winRate[0] += 1\n",
        "                elif not truthWin and curNode.depth % 2 == 0:\n",
        "                    curNode.winRate[0] += 1\n",
        "            else:\n",
        "                if truthWin:\n",
        "                    curNode.winRate[0] += 1\n",
        "            curNode.winRate[1] += 1\n",
        "            curNode = curNode.parent\n",
        "    \n",
        "\n",
        "    def judge(self, chosen):\n",
        "        judge_image = torch.zeros((28, 28))\n",
        "        chosen_pixels = [self.non_black_pixels[index] for index in chosen]\n",
        "        for c in chosen_pixels:\n",
        "            judge_image[c[0]][c[1]] = self.image[c[0]][c[1]]\n",
        "        judge_image = judge_image.unsqueeze(0).unsqueeze(0) # this is a batch consisting of a single image lol\n",
        "        output = self.model(judge_image)\n",
        "        pred = output.argmax(dim=1, keepdim=True).item()\n",
        "        return pred == self.targetLabel.item(), pred\n",
        "    \n",
        "        \n",
        "    def rollouts(self, numRollouts):\n",
        "        for i in range(numRollouts):\n",
        "            # print(\"rollout\",i)\n",
        "            curNode = self.root\n",
        "            chosen = []\n",
        "            while curNode.depth != 6:\n",
        "                nextNode, chosenIndex = self.chooseNextNode(curNode, chosen)\n",
        "                # print(f\"Current depth: {curNode.depth}, Chosen index: {chosenIndex}\")\n",
        "                chosen.append(chosenIndex)\n",
        "                curNode = nextNode\n",
        "            \n",
        "            truthWin, pred = self.judge(chosen)\n",
        "            self.backprop(curNode, truthWin)\n",
        "    \n",
        "\n",
        "    def getBestMoves(self):\n",
        "        curNode = self.root\n",
        "        moves = []\n",
        "        while curNode.depth != 6:\n",
        "            maxVisits = -1\n",
        "            maxVisitsIndex = -1\n",
        "            for c in curNode.children.keys():\n",
        "                if curNode.children[c].timesVisited > maxVisits:\n",
        "                    maxVisits = curNode.children[c].timesVisited\n",
        "                    maxVisitsIndex = c\n",
        "            moves.append(maxVisitsIndex)\n",
        "\n",
        "            # print(curNode.children[maxVisitsIndex].winRate)\n",
        "            # print(len(curNode.children[maxVisitsIndex].children.keys()))\n",
        "\n",
        "            curNode = curNode.children[maxVisitsIndex]\n",
        "        return moves"
      ]
    },
    {
      "cell_type": "markdown",
      "metadata": {},
      "source": [
        "# Visualization"
      ]
    },
    {
      "cell_type": "code",
      "execution_count": 370,
      "metadata": {},
      "outputs": [],
      "source": [
        "def visualizeDebate(example_image, example_label, judge_label, hasLiar, bestMoves):\n",
        "    example_image_dim = example_image[0][0]\n",
        "    import matplotlib.pyplot as plt\n",
        "\n",
        "    plt.imshow(example_image_dim, cmap='gray', interpolation='none')\n",
        "    if hasLiar:\n",
        "        for i in range(len(bestMoves)):\n",
        "            y, x = bestMoves[i]\n",
        "            if i % 2 == 0:\n",
        "                rect = plt.Rectangle((x-0.5, y-0.53), 0.9, 0.9, linewidth=1, edgecolor='deepskyblue', facecolor='none')\n",
        "            else:\n",
        "                rect = plt.Rectangle((x-0.5, y-0.53), 0.9, 0.9, linewidth=1, edgecolor='r', facecolor='none')\n",
        "            plt.gca().add_patch(rect)\n",
        "    plt.title(f\"True label: {int(example_label)} | Predicted label: {judge_label}\")\n",
        "    plt.axis('off')\n",
        "    plt.show()\n",
        "    "
      ]
    },
    {
      "cell_type": "code",
      "execution_count": 371,
      "metadata": {},
      "outputs": [
        {
          "data": {
            "image/png": "[encoded data removed]",
            "text/plain": [
              "<Figure size 640x480 with 1 Axes>"
            ]
          },
          "metadata": {},
          "output_type": "display_data"
        }
      ],
      "source": [
        "visualizeDebate(example_image, example_label, True, True, [(5,14), (10,10)])"
      ]
    },
    {
      "cell_type": "markdown",
      "metadata": {},
      "source": [
        "# Putting it Together\n"
      ]
    },
    {
      "cell_type": "code",
      "execution_count": 368,
      "metadata": {},
      "outputs": [],
      "source": [
        "def runBatchDebates(numDebates, numRollouts, hasLiar, visualize=False):\n",
        "    final_loader = torch.utils.data.DataLoader(\n",
        "        torchvision.datasets.MNIST('~/mnist_data/', train=False, download=True, transform=standardTransform),\n",
        "        batch_size=1, shuffle=True)\n",
        "\n",
        "    countCorrect = 0\n",
        "    for i in range(numDebates):\n",
        "        example_image, example_label = next(iter(final_loader))\n",
        "        example_image_dim = example_image[0][0]\n",
        "\n",
        "        debate = MCTS(image=example_image_dim, targetLabel=example_label, model=model, hasLiar=hasLiar)\n",
        "        debate.rollouts(numRollouts)\n",
        "        bestMoves = debate.getBestMoves()\n",
        "\n",
        "        correct, pred = debate.judge(bestMoves)\n",
        "        if correct:\n",
        "            countCorrect += 1\n",
        "\n",
        "        print(f\"Debate {i+1} | True label: {int(example_label)} | Predicted label: {pred} | Correct ratio: {countCorrect} / {i+1}\")\n",
        "\n",
        "        if visualize:\n",
        "            chosen_pixels = [debate.non_black_pixels[index] for index in bestMoves]\n",
        "            visualizeDebate(example_image, example_label, pred, hasLiar, chosen_pixels)\n"
      ]
    },
    {
      "cell_type": "code",
      "execution_count": 377,
      "metadata": {},
      "outputs": [
        {
          "name": "stdout",
          "output_type": "stream",
          "text": [
            "Debate 1 | True label: 4 | Predicted label: 7 | Correct ratio: 0 / 1\n",
            "[(10, 19), (8, 11), (19, 15), (11, 18), (5, 12), (11, 17)]\n"
          ]
        },
        {
          "data": {
            "image/png": "[encoded data removed]",
            "text/plain": [
              "<Figure size 640x480 with 1 Axes>"
            ]
          },
          "metadata": {},
          "output_type": "display_data"
        }
      ],
      "source": [
        "runBatchDebates(1, 10000, hasLiar=True, visualize=True)"
      ]
    },
    {
      "cell_type": "markdown",
      "metadata": {},
      "source": [
        "# ~60% accuracy with winRateWeight of 3\n",
        "Debate 1 | True label: 8 | Predicted label: 0 | Correct ratio: 0 / 1\n",
        "Debate 2 | True label: 8 | Predicted label: 5 | Correct ratio: 0 / 2\n",
        "Debate 3 | True label: 9 | Predicted label: 9 | Correct ratio: 1 / 3\n",
        "Debate 4 | True label: 4 | Predicted label: 9 | Correct ratio: 1 / 4\n",
        "Debate 5 | True label: 8 | Predicted label: 9 | Correct ratio: 1 / 5\n",
        "Debate 6 | True label: 5 | Predicted label: 5 | Correct ratio: 2 / 6\n",
        "Debate 7 | True label: 1 | Predicted label: 1 | Correct ratio: 3 / 7\n",
        "Debate 8 | True label: 3 | Predicted label: 3 | Correct ratio: 4 / 8\n",
        "Debate 9 | True label: 0 | Predicted label: 0 | Correct ratio: 5 / 9\n",
        "Debate 10 | True label: 3 | Predicted label: 3 | Correct ratio: 6 / 10\n",
        "Debate 11 | True label: 9 | Predicted label: 4 | Correct ratio: 6 / 11\n",
        "Debate 12 | True label: 3 | Predicted label: 3 | Correct ratio: 7 / 12\n",
        "Debate 13 | True label: 5 | Predicted label: 5 | Correct ratio: 8 / 13\n",
        "Debate 14 | True label: 0 | Predicted label: 0 | Correct ratio: 9 / 14\n",
        "Debate 15 | True label: 0 | Predicted label: 0 | Correct ratio: 10 / 15\n",
        "Debate 16 | True label: 4 | Predicted label: 9 | Correct ratio: 10 / 16\n",
        "Debate 17 | True label: 9 | Predicted label: 9 | Correct ratio: 11 / 17\n",
        "Debate 18 | True label: 7 | Predicted label: 7 | Correct ratio: 12 / 18\n",
        "Debate 19 | True label: 1 | Predicted label: 1 | Correct ratio: 13 / 19\n",
        "Debate 20 | True label: 1 | Predicted label: 1 | Correct ratio: 14 / 20\n",
        "Debate 21 | True label: 1 | Predicted label: 1 | Correct ratio: 15 / 21\n",
        "Debate 22 | True label: 8 | Predicted label: 9 | Correct ratio: 15 / 22\n",
        "Debate 23 | True label: 4 | Predicted label: 4 | Correct ratio: 16 / 23\n",
        "Debate 24 | True label: 6 | Predicted label: 6 | Correct ratio: 17 / 24\n",
        "Debate 25 | True label: 0 | Predicted label: 0 | Correct ratio: 18 / 25\n",
        "Debate 26 | True label: 1 | Predicted label: 1 | Correct ratio: 19 / 26\n",
        "Debate 27 | True label: 3 | Predicted label: 0 | Correct ratio: 19 / 27\n",
        "Debate 28 | True label: 2 | Predicted label: 2 | Correct ratio: 20 / 28\n",
        "Debate 29 | True label: 1 | Predicted label: 1 | Correct ratio: 21 / 29\n",
        "Debate 30 | True label: 1 | Predicted label: 1 | Correct ratio: 22 / 30\n",
        "Debate 31 | True label: 7 | Predicted label: 7 | Correct ratio: 23 / 31\n",
        "Debate 32 | True label: 8 | Predicted label: 8 | Correct ratio: 24 / 32\n",
        "Debate 33 | True label: 7 | Predicted label: 9 | Correct ratio: 24 / 33\n",
        "Debate 34 | True label: 6 | Predicted label: 2 | Correct ratio: 24 / 34\n",
        "Debate 35 | True label: 2 | Predicted label: 3 | Correct ratio: 24 / 35\n",
        "Debate 36 | True label: 7 | Predicted label: 9 | Correct ratio: 24 / 36\n",
        "Debate 37 | True label: 8 | Predicted label: 6 | Correct ratio: 24 / 37\n",
        "Debate 38 | True label: 5 | Predicted label: 2 | Correct ratio: 24 / 38\n",
        "Debate 39 | True label: 8 | Predicted label: 0 | Correct ratio: 24 / 39\n",
        "Debate 40 | True label: 2 | Predicted label: 2 | Correct ratio: 25 / 40\n",
        "Debate 41 | True label: 8 | Predicted label: 5 | Correct ratio: 25 / 41\n",
        "Debate 42 | True label: 4 | Predicted label: 9 | Correct ratio: 25 / 42\n",
        "Debate 43 | True label: 9 | Predicted label: 5 | Correct ratio: 25 / 43\n",
        "Debate 44 | True label: 1 | Predicted label: 1 | Correct ratio: 26 / 44\n",
        "Debate 45 | True label: 4 | Predicted label: 4 | Correct ratio: 27 / 45\n",
        "Debate 46 | True label: 8 | Predicted label: 0 | Correct ratio: 27 / 46\n",
        "Debate 47 | True label: 6 | Predicted label: 3 | Correct ratio: 27 / 47\n",
        "Debate 48 | True label: 1 | Predicted label: 1 | Correct ratio: 28 / 48\n",
        "Debate 49 | True label: 8 | Predicted label: 6 | Correct ratio: 28 / 49\n",
        "Debate 50 | True label: 2 | Predicted label: 5 | Correct ratio: 28 / 50\n",
        "Debate 51 | True label: 5 | Predicted label: 0 | Correct ratio: 28 / 51\n",
        "Debate 52 | True label: 3 | Predicted label: 3 | Correct ratio: 29 / 52\n",
        "Debate 53 | True label: 6 | Predicted label: 6 | Correct ratio: 30 / 53\n",
        "Debate 54 | True label: 9 | Predicted label: 9 | Correct ratio: 31 / 54\n",
        "Debate 55 | True label: 2 | Predicted label: 2 | Correct ratio: 32 / 55\n",
        "Debate 56 | True label: 6 | Predicted label: 6 | Correct ratio: 33 / 56\n",
        "Debate 57 | True label: 4 | Predicted label: 2 | Correct ratio: 33 / 57\n",
        "Debate 58 | True label: 7 | Predicted label: 7 | Correct ratio: 34 / 58\n",
        "Debate 59 | True label: 1 | Predicted label: 1 | Correct ratio: 35 / 59\n",
        "Debate 60 | True label: 9 | Predicted label: 4 | Correct ratio: 35 / 60\n",
        "Debate 61 | True label: 6 | Predicted label: 6 | Correct ratio: 36 / 61\n",
        "Debate 62 | True label: 9 | Predicted label: 0 | Correct ratio: 36 / 62\n",
        "Debate 63 | True label: 0 | Predicted label: 0 | Correct ratio: 37 / 63\n",
        "Debate 64 | True label: 7 | Predicted label: 9 | Correct ratio: 37 / 64\n",
        "Debate 65 | True label: 7 | Predicted label: 9 | Correct ratio: 37 / 65\n",
        "Debate 66 | True label: 8 | Predicted label: 5 | Correct ratio: 37 / 66\n",
        "Debate 67 | True label: 9 | Predicted label: 9 | Correct ratio: 38 / 67\n",
        "Debate 68 | True label: 6 | Predicted label: 6 | Correct ratio: 39 / 68\n",
        "Debate 69 | True label: 7 | Predicted label: 7 | Correct ratio: 40 / 69\n",
        "Debate 70 | True label: 0 | Predicted label: 2 | Correct ratio: 40 / 70\n",
        "Debate 71 | True label: 1 | Predicted label: 1 | Correct ratio: 41 / 71\n",
        "Debate 72 | True label: 5 | Predicted label: 5 | Correct ratio: 42 / 72\n",
        "Debate 73 | True label: 6 | Predicted label: 6 | Correct ratio: 43 / 73\n",
        "Debate 74 | True label: 6 | Predicted label: 6 | Correct ratio: 44 / 74\n",
        "Debate 75 | True label: 6 | Predicted label: 6 | Correct ratio: 45 / 75\n",
        "Debate 76 | True label: 1 | Predicted label: 1 | Correct ratio: 46 / 76\n",
        "Debate 77 | True label: 3 | Predicted label: 3 | Correct ratio: 47 / 77\n",
        "Debate 78 | True label: 1 | Predicted label: 1 | Correct ratio: 48 / 78\n",
        "Debate 79 | True label: 8 | Predicted label: 8 | Correct ratio: 49 / 79\n",
        "Debate 80 | True label: 5 | Predicted label: 0 | Correct ratio: 49 / 80\n",
        "Debate 81 | True label: 9 | Predicted label: 9 | Correct ratio: 50 / 81\n",
        "Debate 82 | True label: 0 | Predicted label: 3 | Correct ratio: 50 / 82\n",
        "Debate 83 | True label: 8 | Predicted label: 0 | Correct ratio: 50 / 83\n",
        "Debate 84 | True label: 0 | Predicted label: 0 | Correct ratio: 51 / 84\n",
        "Debate 85 | True label: 1 | Predicted label: 1 | Correct ratio: 52 / 85\n",
        "Debate 86 | True label: 4 | Predicted label: 4 | Correct ratio: 53 / 86\n",
        "Debate 87 | True label: 7 | Predicted label: 9 | Correct ratio: 53 / 87\n",
        "Debate 88 | True label: 8 | Predicted label: 8 | Correct ratio: 54 / 88\n",
        "Debate 89 | True label: 5 | Predicted label: 3 | Correct ratio: 54 / 89\n",
        "Debate 90 | True label: 9 | Predicted label: 4 | Correct ratio: 54 / 90\n",
        "Debate 91 | True label: 8 | Predicted label: 8 | Correct ratio: 55 / 91\n",
        "Debate 92 | True label: 8 | Predicted label: 8 | Correct ratio: 56 / 92\n",
        "Debate 93 | True label: 8 | Predicted label: 8 | Correct ratio: 57 / 93\n",
        "Debate 94 | True label: 8 | Predicted label: 4 | Correct ratio: 57 / 94\n",
        "Debate 95 | True label: 0 | Predicted label: 6 | Correct ratio: 57 / 95\n",
        "Debate 96 | True label: 0 | Predicted label: 6 | Correct ratio: 57 / 96\n",
        "Debate 97 | True label: 5 | Predicted label: 5 | Correct ratio: 58 / 97\n",
        "Debate 98 | True label: 1 | Predicted label: 1 | Correct ratio: 59 / 98\n",
        "Debate 99 | True label: 9 | Predicted label: 9 | Correct ratio: 60 / 99\n",
        "Debate 100 | True label: 4 | Predicted label: 9 | Correct ratio: 60 / 100"
      ]
    },
    {
      "cell_type": "markdown",
      "metadata": {},
      "source": [
        "Note: without a liar agent, the judge performs 100%. This makes sense since the MCTS can always just go to a leaf that outputs correct ans."
      ]
    }
  ],
  "metadata": {
    "accelerator": "GPU",
    "colab": {
      "collapsed_sections": [
        "IDwV8qMBQzce"
      ],
      "gpuType": "T4",
      "machine_shape": "hm",
      "provenance": []
    },
    "kernelspec": {
      "display_name": "Python 3",
      "name": "python3"
    },
    "language_info": {
      "codemirror_mode": {
        "name": "ipython",
        "version": 3
      },
      "file_extension": ".py",
      "mimetype": "text/x-python",
      "name": "python",
      "nbconvert_exporter": "python",
      "pygments_lexer": "ipython3",
      "version": "3.11.1"
    }
  },
  "nbformat": 4,
  "nbformat_minor": 0
}
