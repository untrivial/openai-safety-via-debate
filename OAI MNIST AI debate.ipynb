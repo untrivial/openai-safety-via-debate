{
  "cells": [
    {
      "cell_type": "markdown",
      "metadata": {
        "id": "rjXDUdojRORb"
      },
      "source": [
        "# AI safety via debate\n",
        "OAI article: https://openai.com/index/debate/\n",
        "\n",
        "Paper: https://arxiv.org/pdf/1805.00899\n",
        "\n",
        "Implementation by Alex Chen\n",
        "\n",
        "Jul 2024"
      ]
    },
    {
      "cell_type": "markdown",
      "metadata": {
        "id": "IDwV8qMBQzce"
      },
      "source": [
        "# Setup"
      ]
    },
    {
      "cell_type": "code",
      "execution_count": 4,
      "metadata": {
        "id": "-p8AER-rQhaV"
      },
      "outputs": [],
      "source": [
        "import torch\n",
        "import torchvision\n",
        "import numpy as np\n",
        "import matplotlib.pyplot as plt\n",
        "import torch.nn as nn\n",
        "import torch.nn.functional as F\n",
        "import torch.optim as optim\n",
        "import random\n",
        "from torchvision.transforms import ToTensor"
      ]
    },
    {
      "cell_type": "markdown",
      "metadata": {
        "id": "ZAXdR4RGQzCE"
      },
      "source": [
        "# Training the Judge\n",
        "The judge is a classifier trained to \"predict MNIST digits from 6 non-black digits, sampled at random for each presentation when pretraining.\"\n",
        "\n",
        "As per the paper, their original sparse classifier achieved 59.4% accuracy. They use a convolutional neural net."
      ]
    },
    {
      "cell_type": "code",
      "execution_count": 2,
      "metadata": {
        "id": "Pw-A0C8PT_aO"
      },
      "outputs": [],
      "source": [
        "n_epochs = 3\n",
        "batch_size_train = 64\n",
        "batch_size_test = 1000\n",
        "learning_rate = 0.0005\n",
        "momentum = 0.5\n",
        "log_interval = 10"
      ]
    },
    {
      "cell_type": "code",
      "execution_count": null,
      "metadata": {
        "colab": {
          "base_uri": "https://localhost:8080/"
        },
        "id": "YVggtk7Oe77V",
        "outputId": "5f78934d-a849-4947-ae52-850337151bd2"
      },
      "outputs": [],
      "source": [
        "import torch\n",
        "import torch.nn as nn\n",
        "import torch.nn.functional as F\n",
        "import torchvision\n",
        "import torchvision.transforms as transforms\n",
        "import numpy as np\n",
        "from torchvision.transforms import ToTensor\n",
        "\n",
        "class RandomPixelSelection(object):\n",
        "    def __init__(self, num_pixels=6):\n",
        "        self.num_pixels = num_pixels\n",
        "\n",
        "    def __call__(self, img):\n",
        "        img_np = np.array(img)\n",
        "        flattened = img_np.flatten()\n",
        "        non_black_indices = np.where(flattened > 0)[0]\n",
        "\n",
        "        if len(non_black_indices) < self.num_pixels:\n",
        "            selected_indices = non_black_indices\n",
        "        else:\n",
        "            selected_indices = np.random.choice(non_black_indices, self.num_pixels, replace=False)\n",
        "\n",
        "        new_img = np.zeros_like(flattened)\n",
        "        new_img[selected_indices] = flattened[selected_indices]\n",
        "        new_img = new_img.reshape(img_np.shape)\n",
        "\n",
        "        new_img = torch.tensor(new_img, dtype=torch.float32)\n",
        "        new_img = (new_img - 0.1307) / 0.3081\n",
        "\n",
        "        return new_img.unsqueeze(0)\n",
        "\n",
        "transform = torchvision.transforms.Compose([\n",
        "    RandomPixelSelection(num_pixels=6)\n",
        "])\n",
        "\n",
        "batch_size_train = 64\n",
        "batch_size_test = 1000\n",
        "\n",
        "train_loader = torch.utils.data.DataLoader(\n",
        "    torchvision.datasets.MNIST('/files/', train=True, download=True, transform=transform),\n",
        "    batch_size=batch_size_train, shuffle=True)\n",
        "\n",
        "test_loader = torch.utils.data.DataLoader(\n",
        "    torchvision.datasets.MNIST('/files/', train=False, download=True, transform=transform),\n",
        "    batch_size=batch_size_test, shuffle=True)\n",
        "\n",
        "class Judge(nn.Module):\n",
        "    def __init__(self):\n",
        "        super(Judge, self).__init__()\n",
        "        self.conv1 = nn.Conv2d(1, 6, kernel_size=5)\n",
        "        self.conv2 = nn.Conv2d(6, 12, kernel_size=5)\n",
        "        self.fc1 = nn.Linear(12 * 20 * 20, 60)\n",
        "        self.fc2 = nn.Linear(60, 30)\n",
        "        self.fc3 = nn.Linear(30, 10)\n",
        "\n",
        "    def forward(self, x):\n",
        "        x = F.relu(self.conv1(x))\n",
        "        x = F.relu(self.conv2(x))\n",
        "        x = x.view(-1, 12 * 20 * 20)\n",
        "        x = F.relu(self.fc1(x))\n",
        "        x = F.relu(self.fc2(x))\n",
        "        x = self.fc3(x)\n",
        "        return F.log_softmax(x, dim=1)\n",
        "\n",
        "device = torch.device(\"cuda\" if torch.cuda.is_available() else \"cpu\")\n",
        "model = Judge().to(device)\n",
        "optimizer = torch.optim.SGD(model.parameters(), lr=learning_rate, momentum=momentum)\n",
        "scheduler = torch.optim.lr_scheduler.StepLR(optimizer, step_size=1, gamma=0.7)\n",
        "\n",
        "def train(model, device, train_loader, optimizer, epoch):\n",
        "    model.train()\n",
        "    for batch_idx, (data, target) in enumerate(train_loader):\n",
        "        data, target = data.to(device), target.to(device)\n",
        "        optimizer.zero_grad()\n",
        "        output = model(data)\n",
        "        loss = F.nll_loss(output, target)\n",
        "        loss.backward()\n",
        "        optimizer.step()\n",
        "        if batch_idx % 100 == 0:\n",
        "            print(f'Train Epoch: {epoch} [{batch_idx * len(data)}/{len(train_loader.dataset)} '\n",
        "                  f'({100. * batch_idx / len(train_loader):.0f}%)]\\tLoss: {loss.item():.6f}')\n",
        "\n",
        "def test(model, device, test_loader):\n",
        "    model.eval()\n",
        "    test_loss = 0\n",
        "    correct = 0\n",
        "    with torch.no_grad():\n",
        "        for data, target in test_loader:\n",
        "            data, target = data.to(device), target.to(device)\n",
        "            output = model(data)\n",
        "            test_loss += F.nll_loss(output, target, reduction='sum').item()\n",
        "            pred = output.argmax(dim=1, keepdim=True)\n",
        "            correct += pred.eq(target.view_as(pred)).sum().item()\n",
        "\n",
        "    test_loss /= len(test_loader.dataset)\n",
        "    print(f'\\nTest set: Average loss: {test_loss:.4f}, Accuracy: {correct}/{len(test_loader.dataset)} '\n",
        "          f'({100. * correct / len(test_loader.dataset):.0f}%)\\n')\n",
        "\n",
        "n_epochs = 20\n",
        "for epoch in range(1, n_epochs + 1):\n",
        "    train(model, device, train_loader, optimizer, epoch)\n",
        "    test(model, device, test_loader)\n",
        "    scheduler.step()"
      ]
    },
    {
      "cell_type": "markdown",
      "metadata": {},
      "source": [
        "# The Agent\n",
        "\n",
        "use monte carlo tree search\n",
        "\n",
        "tree layers alternate between the truthful agent and the lying agent\n",
        "\n",
        "each node can track the:\n",
        "- parent\n",
        "- children\n",
        "- full game state up to that node, which also reveals which agent they are and what turn it is\n",
        "- value; number of wins\n",
        "\n",
        "\n",
        "the root of the tree is the empty state\n",
        "\n",
        "first move is truthful agent"
      ]
    },
    {
      "cell_type": "code",
      "execution_count": 1,
      "metadata": {},
      "outputs": [],
      "source": [
        "class Node():\n",
        "    def __init__(self, parent=None, children=[], gameState=[], value=0, turn=0):\n",
        "        self.parent = parent\n",
        "        self.children = children\n",
        "        self.gameState = gameState\n",
        "        self.value = value"
      ]
    },
    {
      "cell_type": "code",
      "execution_count": 2,
      "metadata": {},
      "outputs": [],
      "source": [
        "class MCTS():\n",
        "    def __init__(self):\n",
        "        self.root = Node(parent=None, value=2)\n",
        "    \n",
        "    def chooseNextNode(self, curNode):\n",
        "        temp = []\n",
        "        if len(curNode.children) == 0:\n",
        "            return curNode\n",
        "        for c in curNode.children:\n",
        "            temp += c.value\n",
        "        return random.choices(population=curNode.children, weights=temp, k=1)\n",
        "\n",
        "    def select(self):\n",
        "        curNode = self.root\n",
        "        while curNode is not None:\n",
        "            nextNode = self.chooseNextNode(curNode)\n",
        "            if nextNode != curNode:\n",
        "                curNode = nextNode\n",
        "            else:\n",
        "                break\n",
        "\n",
        "    def backprop(self, node, value):\n",
        "        node.value += value\n",
        "        while node.parent is not None:\n",
        "            node.parent.value += value\n",
        "            node = node.parent"
      ]
    },
    {
      "cell_type": "code",
      "execution_count": 3,
      "metadata": {},
      "outputs": [
        {
          "name": "stdout",
          "output_type": "stream",
          "text": [
            "2\n"
          ]
        }
      ],
      "source": [
        "a = MCTS()\n",
        "print(a.getRoot())"
      ]
    }
  ],
  "metadata": {
    "accelerator": "GPU",
    "colab": {
      "collapsed_sections": [
        "IDwV8qMBQzce"
      ],
      "gpuType": "T4",
      "machine_shape": "hm",
      "provenance": []
    },
    "kernelspec": {
      "display_name": "Python 3",
      "name": "python3"
    },
    "language_info": {
      "codemirror_mode": {
        "name": "ipython",
        "version": 3
      },
      "file_extension": ".py",
      "mimetype": "text/x-python",
      "name": "python",
      "nbconvert_exporter": "python",
      "pygments_lexer": "ipython3",
      "version": "3.11.1"
    }
  },
  "nbformat": 4,
  "nbformat_minor": 0
}
